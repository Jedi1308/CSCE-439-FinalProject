{
  "nbformat": 4,
  "nbformat_minor": 0,
  "metadata": {
    "colab": {
      "provenance": [],
      "gpuType": "T4"
    },
    "kernelspec": {
      "name": "python3",
      "display_name": "Python 3"
    },
    "language_info": {
      "name": "python"
    },
    "accelerator": "GPU"
  },
  "cells": [
    {
      "cell_type": "code",
      "execution_count": 1,
      "metadata": {
        "colab": {
          "base_uri": "https://localhost:8080/"
        },
        "collapsed": true,
        "id": "6QFFKbEGD10R",
        "outputId": "39b55f4d-b494-499d-afba-f50b64e98395"
      },
      "outputs": [
        {
          "output_type": "stream",
          "name": "stdout",
          "text": [
            "Collecting pyverilog\n",
            "  Downloading pyverilog-1.3.0.tar.gz (136 kB)\n",
            "\u001b[2K     \u001b[90m━━━━━━━━━━━━━━━━━━━━━━━━━━━━━━━━━━━━━━━━\u001b[0m \u001b[32m136.4/136.4 kB\u001b[0m \u001b[31m4.4 MB/s\u001b[0m eta \u001b[36m0:00:00\u001b[0m\n",
            "\u001b[?25h  Preparing metadata (setup.py) ... \u001b[?25l\u001b[?25hdone\n",
            "Requirement already satisfied: Jinja2>=2.10 in /usr/local/lib/python3.10/dist-packages (from pyverilog) (3.1.4)\n",
            "Collecting ply>=3.4 (from pyverilog)\n",
            "  Downloading ply-3.11-py2.py3-none-any.whl.metadata (844 bytes)\n",
            "Requirement already satisfied: MarkupSafe>=2.0 in /usr/local/lib/python3.10/dist-packages (from Jinja2>=2.10->pyverilog) (3.0.2)\n",
            "Downloading ply-3.11-py2.py3-none-any.whl (49 kB)\n",
            "\u001b[2K   \u001b[90m━━━━━━━━━━━━━━━━━━━━━━━━━━━━━━━━━━━━━━━━\u001b[0m \u001b[32m49.6/49.6 kB\u001b[0m \u001b[31m4.3 MB/s\u001b[0m eta \u001b[36m0:00:00\u001b[0m\n",
            "\u001b[?25hBuilding wheels for collected packages: pyverilog\n",
            "  Building wheel for pyverilog (setup.py) ... \u001b[?25l\u001b[?25hdone\n",
            "  Created wheel for pyverilog: filename=pyverilog-1.3.0-py3-none-any.whl size=118928 sha256=406351e24dc888316437fa84bc4ccab7fd380d5a3260ab84696f2e02c539a12d\n",
            "  Stored in directory: /root/.cache/pip/wheels/cf/6e/86/42cdc93d68295ef50b38b8ad1fba394ac319f2b39c896b1975\n",
            "Successfully built pyverilog\n",
            "Installing collected packages: ply, pyverilog\n",
            "Successfully installed ply-3.11 pyverilog-1.3.0\n",
            "Reading package lists... Done\n",
            "Building dependency tree... Done\n",
            "Reading state information... Done\n",
            "Note, selecting 'libgraphviz-dev' instead of 'graphviz-dev'\n",
            "graphviz is already the newest version (2.42.2-6ubuntu0.1).\n",
            "The following additional packages will be installed:\n",
            "  libgail-common libgail18 libgtk2.0-0 libgtk2.0-bin libgtk2.0-common libgvc6-plugins-gtk\n",
            "  librsvg2-common libxdot4\n",
            "Suggested packages:\n",
            "  gvfs\n",
            "The following NEW packages will be installed:\n",
            "  libgail-common libgail18 libgraphviz-dev libgtk2.0-0 libgtk2.0-bin libgtk2.0-common\n",
            "  libgvc6-plugins-gtk librsvg2-common libxdot4\n",
            "0 upgraded, 9 newly installed, 0 to remove and 49 not upgraded.\n",
            "Need to get 2,434 kB of archives.\n",
            "After this operation, 7,681 kB of additional disk space will be used.\n",
            "Get:1 http://archive.ubuntu.com/ubuntu jammy-updates/main amd64 libgtk2.0-common all 2.24.33-2ubuntu2.1 [125 kB]\n",
            "Get:2 http://archive.ubuntu.com/ubuntu jammy-updates/main amd64 libgtk2.0-0 amd64 2.24.33-2ubuntu2.1 [2,038 kB]\n",
            "Get:3 http://archive.ubuntu.com/ubuntu jammy-updates/main amd64 libgail18 amd64 2.24.33-2ubuntu2.1 [15.9 kB]\n",
            "Get:4 http://archive.ubuntu.com/ubuntu jammy-updates/main amd64 libgail-common amd64 2.24.33-2ubuntu2.1 [132 kB]\n",
            "Get:5 http://archive.ubuntu.com/ubuntu jammy-updates/universe amd64 libxdot4 amd64 2.42.2-6ubuntu0.1 [16.4 kB]\n",
            "Get:6 http://archive.ubuntu.com/ubuntu jammy-updates/universe amd64 libgvc6-plugins-gtk amd64 2.42.2-6ubuntu0.1 [22.5 kB]\n",
            "Get:7 http://archive.ubuntu.com/ubuntu jammy-updates/universe amd64 libgraphviz-dev amd64 2.42.2-6ubuntu0.1 [58.5 kB]\n",
            "Get:8 http://archive.ubuntu.com/ubuntu jammy-updates/main amd64 libgtk2.0-bin amd64 2.24.33-2ubuntu2.1 [7,936 B]\n",
            "Get:9 http://archive.ubuntu.com/ubuntu jammy-updates/main amd64 librsvg2-common amd64 2.52.5+dfsg-3ubuntu0.2 [17.7 kB]\n",
            "Fetched 2,434 kB in 1s (2,662 kB/s)\n",
            "Selecting previously unselected package libgtk2.0-common.\n",
            "(Reading database ... 123630 files and directories currently installed.)\n",
            "Preparing to unpack .../0-libgtk2.0-common_2.24.33-2ubuntu2.1_all.deb ...\n",
            "Unpacking libgtk2.0-common (2.24.33-2ubuntu2.1) ...\n",
            "Selecting previously unselected package libgtk2.0-0:amd64.\n",
            "Preparing to unpack .../1-libgtk2.0-0_2.24.33-2ubuntu2.1_amd64.deb ...\n",
            "Unpacking libgtk2.0-0:amd64 (2.24.33-2ubuntu2.1) ...\n",
            "Selecting previously unselected package libgail18:amd64.\n",
            "Preparing to unpack .../2-libgail18_2.24.33-2ubuntu2.1_amd64.deb ...\n",
            "Unpacking libgail18:amd64 (2.24.33-2ubuntu2.1) ...\n",
            "Selecting previously unselected package libgail-common:amd64.\n",
            "Preparing to unpack .../3-libgail-common_2.24.33-2ubuntu2.1_amd64.deb ...\n",
            "Unpacking libgail-common:amd64 (2.24.33-2ubuntu2.1) ...\n",
            "Selecting previously unselected package libxdot4:amd64.\n",
            "Preparing to unpack .../4-libxdot4_2.42.2-6ubuntu0.1_amd64.deb ...\n",
            "Unpacking libxdot4:amd64 (2.42.2-6ubuntu0.1) ...\n",
            "Selecting previously unselected package libgvc6-plugins-gtk.\n",
            "Preparing to unpack .../5-libgvc6-plugins-gtk_2.42.2-6ubuntu0.1_amd64.deb ...\n",
            "Unpacking libgvc6-plugins-gtk (2.42.2-6ubuntu0.1) ...\n",
            "Selecting previously unselected package libgraphviz-dev:amd64.\n",
            "Preparing to unpack .../6-libgraphviz-dev_2.42.2-6ubuntu0.1_amd64.deb ...\n",
            "Unpacking libgraphviz-dev:amd64 (2.42.2-6ubuntu0.1) ...\n",
            "Selecting previously unselected package libgtk2.0-bin.\n",
            "Preparing to unpack .../7-libgtk2.0-bin_2.24.33-2ubuntu2.1_amd64.deb ...\n",
            "Unpacking libgtk2.0-bin (2.24.33-2ubuntu2.1) ...\n",
            "Selecting previously unselected package librsvg2-common:amd64.\n",
            "Preparing to unpack .../8-librsvg2-common_2.52.5+dfsg-3ubuntu0.2_amd64.deb ...\n",
            "Unpacking librsvg2-common:amd64 (2.52.5+dfsg-3ubuntu0.2) ...\n",
            "Setting up libxdot4:amd64 (2.42.2-6ubuntu0.1) ...\n",
            "Setting up librsvg2-common:amd64 (2.52.5+dfsg-3ubuntu0.2) ...\n",
            "Setting up libgtk2.0-common (2.24.33-2ubuntu2.1) ...\n",
            "Setting up libgtk2.0-0:amd64 (2.24.33-2ubuntu2.1) ...\n",
            "Setting up libgvc6-plugins-gtk (2.42.2-6ubuntu0.1) ...\n",
            "Setting up libgail18:amd64 (2.24.33-2ubuntu2.1) ...\n",
            "Setting up libgtk2.0-bin (2.24.33-2ubuntu2.1) ...\n",
            "Setting up libgail-common:amd64 (2.24.33-2ubuntu2.1) ...\n",
            "Setting up libgraphviz-dev:amd64 (2.42.2-6ubuntu0.1) ...\n",
            "Processing triggers for libc-bin (2.35-0ubuntu3.4) ...\n",
            "/sbin/ldconfig.real: /usr/local/lib/libtbb.so.12 is not a symbolic link\n",
            "\n",
            "/sbin/ldconfig.real: /usr/local/lib/libumf.so.0 is not a symbolic link\n",
            "\n",
            "/sbin/ldconfig.real: /usr/local/lib/libtbbmalloc.so.2 is not a symbolic link\n",
            "\n",
            "/sbin/ldconfig.real: /usr/local/lib/libur_loader.so.0 is not a symbolic link\n",
            "\n",
            "/sbin/ldconfig.real: /usr/local/lib/libtbbbind_2_5.so.3 is not a symbolic link\n",
            "\n",
            "/sbin/ldconfig.real: /usr/local/lib/libtcm_debug.so.1 is not a symbolic link\n",
            "\n",
            "/sbin/ldconfig.real: /usr/local/lib/libur_adapter_level_zero.so.0 is not a symbolic link\n",
            "\n",
            "/sbin/ldconfig.real: /usr/local/lib/libur_adapter_opencl.so.0 is not a symbolic link\n",
            "\n",
            "/sbin/ldconfig.real: /usr/local/lib/libtbbbind_2_0.so.3 is not a symbolic link\n",
            "\n",
            "/sbin/ldconfig.real: /usr/local/lib/libtbbmalloc_proxy.so.2 is not a symbolic link\n",
            "\n",
            "/sbin/ldconfig.real: /usr/local/lib/libtcm.so.1 is not a symbolic link\n",
            "\n",
            "/sbin/ldconfig.real: /usr/local/lib/libtbbbind.so.3 is not a symbolic link\n",
            "\n",
            "/sbin/ldconfig.real: /usr/local/lib/libhwloc.so.15 is not a symbolic link\n",
            "\n",
            "Processing triggers for man-db (2.10.2-1) ...\n",
            "Processing triggers for libgdk-pixbuf-2.0-0:amd64 (2.42.8+dfsg-1ubuntu0.3) ...\n",
            "Collecting pygraphviz\n",
            "  Downloading pygraphviz-1.14.tar.gz (106 kB)\n",
            "\u001b[2K     \u001b[90m━━━━━━━━━━━━━━━━━━━━━━━━━━━━━━━━━━━━━━━━\u001b[0m \u001b[32m106.0/106.0 kB\u001b[0m \u001b[31m6.7 MB/s\u001b[0m eta \u001b[36m0:00:00\u001b[0m\n",
            "\u001b[?25h  Installing build dependencies ... \u001b[?25l\u001b[?25hdone\n",
            "  Getting requirements to build wheel ... \u001b[?25l\u001b[?25hdone\n",
            "  Preparing metadata (pyproject.toml) ... \u001b[?25l\u001b[?25hdone\n",
            "Building wheels for collected packages: pygraphviz\n",
            "  Building wheel for pygraphviz (pyproject.toml) ... \u001b[?25l\u001b[?25hdone\n",
            "  Created wheel for pygraphviz: filename=pygraphviz-1.14-cp310-cp310-linux_x86_64.whl size=168640 sha256=d7e3d2ef743987feba1df5eda25331f1f69c99972709f9c39f9fce9ab317f6c4\n",
            "  Stored in directory: /root/.cache/pip/wheels/61/ab/cd/e24a22c32830b8b4948c8887d8714d399f0f806f206a034698\n",
            "Successfully built pygraphviz\n",
            "Installing collected packages: pygraphviz\n",
            "Successfully installed pygraphviz-1.14\n",
            "Get:1 https://cloud.r-project.org/bin/linux/ubuntu jammy-cran40/ InRelease [3,626 B]\n",
            "Get:2 https://developer.download.nvidia.com/compute/cuda/repos/ubuntu2204/x86_64  InRelease [1,581 B]\n",
            "Hit:3 https://ppa.launchpadcontent.net/deadsnakes/ppa/ubuntu jammy InRelease\n",
            "Hit:4 https://ppa.launchpadcontent.net/graphics-drivers/ppa/ubuntu jammy InRelease\n",
            "Hit:5 https://ppa.launchpadcontent.net/ubuntugis/ppa/ubuntu jammy InRelease\n",
            "Hit:6 http://archive.ubuntu.com/ubuntu jammy InRelease\n",
            "Get:7 http://security.ubuntu.com/ubuntu jammy-security InRelease [129 kB]\n",
            "Get:8 http://archive.ubuntu.com/ubuntu jammy-updates InRelease [128 kB]\n",
            "Get:9 https://developer.download.nvidia.com/compute/cuda/repos/ubuntu2204/x86_64  Packages [1,173 kB]\n",
            "Get:10 https://r2u.stat.illinois.edu/ubuntu jammy InRelease [6,555 B]\n",
            "Get:11 http://archive.ubuntu.com/ubuntu jammy-backports InRelease [127 kB]\n",
            "Get:12 http://security.ubuntu.com/ubuntu jammy-security/universe amd64 Packages [1,224 kB]\n",
            "Get:13 http://archive.ubuntu.com/ubuntu jammy-updates/main amd64 Packages [2,738 kB]\n",
            "Get:14 https://r2u.stat.illinois.edu/ubuntu jammy/main amd64 Packages [2,619 kB]\n",
            "Get:15 http://security.ubuntu.com/ubuntu jammy-security/main amd64 Packages [2,454 kB]\n",
            "Get:16 http://archive.ubuntu.com/ubuntu jammy-updates/universe amd64 Packages [1,513 kB]\n",
            "Get:17 http://archive.ubuntu.com/ubuntu jammy-backports/universe amd64 Packages [33.8 kB]\n",
            "Get:18 https://r2u.stat.illinois.edu/ubuntu jammy/main all Packages [8,514 kB]\n",
            "Fetched 20.7 MB in 3s (7,599 kB/s)\n",
            "Reading package lists... Done\n",
            "W: Skipping acquire of configured file 'main/source/Sources' as repository 'https://r2u.stat.illinois.edu/ubuntu jammy InRelease' does not seem to provide it (sources.list entry misspelt?)\n",
            "Reading package lists... Done\n",
            "Building dependency tree... Done\n",
            "Reading state information... Done\n",
            "Suggested packages:\n",
            "  gtkwave\n",
            "The following NEW packages will be installed:\n",
            "  iverilog\n",
            "0 upgraded, 1 newly installed, 0 to remove and 59 not upgraded.\n",
            "Need to get 2,130 kB of archives.\n",
            "After this operation, 6,749 kB of additional disk space will be used.\n",
            "Get:1 http://archive.ubuntu.com/ubuntu jammy/universe amd64 iverilog amd64 11.0-1.1 [2,130 kB]\n",
            "Fetched 2,130 kB in 1s (2,743 kB/s)\n",
            "Selecting previously unselected package iverilog.\n",
            "(Reading database ... 123781 files and directories currently installed.)\n",
            "Preparing to unpack .../iverilog_11.0-1.1_amd64.deb ...\n",
            "Unpacking iverilog (11.0-1.1) ...\n",
            "Setting up iverilog (11.0-1.1) ...\n",
            "Processing triggers for man-db (2.10.2-1) ...\n",
            "Collecting torch_geometric\n",
            "  Downloading torch_geometric-2.6.1-py3-none-any.whl.metadata (63 kB)\n",
            "\u001b[2K     \u001b[90m━━━━━━━━━━━━━━━━━━━━━━━━━━━━━━━━━━━━━━━━\u001b[0m \u001b[32m63.1/63.1 kB\u001b[0m \u001b[31m4.1 MB/s\u001b[0m eta \u001b[36m0:00:00\u001b[0m\n",
            "\u001b[?25hRequirement already satisfied: aiohttp in /usr/local/lib/python3.10/dist-packages (from torch_geometric) (3.11.2)\n",
            "Requirement already satisfied: fsspec in /usr/local/lib/python3.10/dist-packages (from torch_geometric) (2024.10.0)\n",
            "Requirement already satisfied: jinja2 in /usr/local/lib/python3.10/dist-packages (from torch_geometric) (3.1.4)\n",
            "Requirement already satisfied: numpy in /usr/local/lib/python3.10/dist-packages (from torch_geometric) (1.26.4)\n",
            "Requirement already satisfied: psutil>=5.8.0 in /usr/local/lib/python3.10/dist-packages (from torch_geometric) (5.9.5)\n",
            "Requirement already satisfied: pyparsing in /usr/local/lib/python3.10/dist-packages (from torch_geometric) (3.2.0)\n",
            "Requirement already satisfied: requests in /usr/local/lib/python3.10/dist-packages (from torch_geometric) (2.32.3)\n",
            "Requirement already satisfied: tqdm in /usr/local/lib/python3.10/dist-packages (from torch_geometric) (4.66.6)\n",
            "Requirement already satisfied: aiohappyeyeballs>=2.3.0 in /usr/local/lib/python3.10/dist-packages (from aiohttp->torch_geometric) (2.4.3)\n",
            "Requirement already satisfied: aiosignal>=1.1.2 in /usr/local/lib/python3.10/dist-packages (from aiohttp->torch_geometric) (1.3.1)\n",
            "Requirement already satisfied: attrs>=17.3.0 in /usr/local/lib/python3.10/dist-packages (from aiohttp->torch_geometric) (24.2.0)\n",
            "Requirement already satisfied: frozenlist>=1.1.1 in /usr/local/lib/python3.10/dist-packages (from aiohttp->torch_geometric) (1.5.0)\n",
            "Requirement already satisfied: multidict<7.0,>=4.5 in /usr/local/lib/python3.10/dist-packages (from aiohttp->torch_geometric) (6.1.0)\n",
            "Requirement already satisfied: propcache>=0.2.0 in /usr/local/lib/python3.10/dist-packages (from aiohttp->torch_geometric) (0.2.0)\n",
            "Requirement already satisfied: yarl<2.0,>=1.17.0 in /usr/local/lib/python3.10/dist-packages (from aiohttp->torch_geometric) (1.17.2)\n",
            "Requirement already satisfied: async-timeout<6.0,>=4.0 in /usr/local/lib/python3.10/dist-packages (from aiohttp->torch_geometric) (4.0.3)\n",
            "Requirement already satisfied: MarkupSafe>=2.0 in /usr/local/lib/python3.10/dist-packages (from jinja2->torch_geometric) (3.0.2)\n",
            "Requirement already satisfied: charset-normalizer<4,>=2 in /usr/local/lib/python3.10/dist-packages (from requests->torch_geometric) (3.4.0)\n",
            "Requirement already satisfied: idna<4,>=2.5 in /usr/local/lib/python3.10/dist-packages (from requests->torch_geometric) (3.10)\n",
            "Requirement already satisfied: urllib3<3,>=1.21.1 in /usr/local/lib/python3.10/dist-packages (from requests->torch_geometric) (2.2.3)\n",
            "Requirement already satisfied: certifi>=2017.4.17 in /usr/local/lib/python3.10/dist-packages (from requests->torch_geometric) (2024.8.30)\n",
            "Requirement already satisfied: typing-extensions>=4.1.0 in /usr/local/lib/python3.10/dist-packages (from multidict<7.0,>=4.5->aiohttp->torch_geometric) (4.12.2)\n",
            "Downloading torch_geometric-2.6.1-py3-none-any.whl (1.1 MB)\n",
            "\u001b[2K   \u001b[90m━━━━━━━━━━━━━━━━━━━━━━━━━━━━━━━━━━━━━━━━\u001b[0m \u001b[32m1.1/1.1 MB\u001b[0m \u001b[31m46.6 MB/s\u001b[0m eta \u001b[36m0:00:00\u001b[0m\n",
            "\u001b[?25hInstalling collected packages: torch_geometric\n",
            "Successfully installed torch_geometric-2.6.1\n"
          ]
        }
      ],
      "source": [
        "!pip install pyverilog\n",
        "!apt-get install graphviz graphviz-dev\n",
        "!pip install pygraphviz\n",
        "!apt-get update\n",
        "!apt-get install -y iverilog\n",
        "!pip install torch_geometric"
      ]
    },
    {
      "cell_type": "code",
      "source": [
        "from google.colab import drive\n",
        "drive.mount('/content/drive')"
      ],
      "metadata": {
        "colab": {
          "base_uri": "https://localhost:8080/"
        },
        "id": "rkP1xtGJEvco",
        "outputId": "fe6cdd1a-8f87-41f5-b9cf-033d16387710"
      },
      "execution_count": 2,
      "outputs": [
        {
          "output_type": "stream",
          "name": "stdout",
          "text": [
            "Mounted at /content/drive\n"
          ]
        }
      ]
    },
    {
      "cell_type": "code",
      "source": [
        "import os, sys\n",
        "sys.path.append('/content/drive/MyDrive/HW2VEC/')\n",
        "from hw2vec.hw2graph import *\n",
        "from hw2vec.config import Config\n",
        "from hw2vec.graph2vec.models import *"
      ],
      "metadata": {
        "id": "r05feuzNFynY"
      },
      "execution_count": 3,
      "outputs": []
    },
    {
      "cell_type": "markdown",
      "source": [
        "Use Case 1:"
      ],
      "metadata": {
        "id": "LkAZbXbL0lZf"
      }
    },
    {
      "cell_type": "code",
      "source": [
        "args = [\n",
        "    '--yaml_path', '/content/drive/MyDrive/HW2VEC/examples/example_gnn4tj.yaml',\n",
        "    '--raw_dataset_path', '/content/drive/MyDrive/HW2VEC/assets/TJ-RTL-toy/',\n",
        "    '--data_pkl_path', '/content/drive/MyDrive/HW2VEC/examples/dfg_tj_rtl.pkl',\n",
        "    '--graph_type', 'DFG',\n",
        "    '--device', 'cuda'\n",
        "    ]\n",
        "cfg = Config(args)"
      ],
      "metadata": {
        "id": "OBU8Aiypp7aj"
      },
      "execution_count": 4,
      "outputs": []
    },
    {
      "cell_type": "code",
      "source": [
        "hw2graph = HW2GRAPH(cfg)\n",
        "\n",
        "hw_design_path = hw2graph.preprocess(hw_design_dir_path)\n",
        "hardware_nxgraph = hw2graph.process(hw_design_path)\n",
        "\n",
        "data_proc = DataProcessor(cfg)\n",
        "data_proc.process(hardware_nxgraph)\n",
        "vis_loader = DataLoader(data_proc.get_graphs(), batch_size=1)"
      ],
      "metadata": {
        "id": "jbzJlK8Qp76z",
        "colab": {
          "base_uri": "https://localhost:8080/",
          "height": 207
        },
        "outputId": "1e87abfb-0515-40e6-aa5f-aff05fedad1e"
      },
      "execution_count": 5,
      "outputs": [
        {
          "output_type": "error",
          "ename": "NameError",
          "evalue": "name 'hw_design_dir_path' is not defined",
          "traceback": [
            "\u001b[0;31m---------------------------------------------------------------------------\u001b[0m",
            "\u001b[0;31mNameError\u001b[0m                                 Traceback (most recent call last)",
            "\u001b[0;32m<ipython-input-5-d736a8e3d1a4>\u001b[0m in \u001b[0;36m<cell line: 3>\u001b[0;34m()\u001b[0m\n\u001b[1;32m      1\u001b[0m \u001b[0mhw2graph\u001b[0m \u001b[0;34m=\u001b[0m \u001b[0mHW2GRAPH\u001b[0m\u001b[0;34m(\u001b[0m\u001b[0mcfg\u001b[0m\u001b[0;34m)\u001b[0m\u001b[0;34m\u001b[0m\u001b[0;34m\u001b[0m\u001b[0m\n\u001b[1;32m      2\u001b[0m \u001b[0;34m\u001b[0m\u001b[0m\n\u001b[0;32m----> 3\u001b[0;31m \u001b[0mhw_design_path\u001b[0m \u001b[0;34m=\u001b[0m \u001b[0mhw2graph\u001b[0m\u001b[0;34m.\u001b[0m\u001b[0mpreprocess\u001b[0m\u001b[0;34m(\u001b[0m\u001b[0mhw_design_dir_path\u001b[0m\u001b[0;34m)\u001b[0m\u001b[0;34m\u001b[0m\u001b[0;34m\u001b[0m\u001b[0m\n\u001b[0m\u001b[1;32m      4\u001b[0m \u001b[0mhardware_nxgraph\u001b[0m \u001b[0;34m=\u001b[0m \u001b[0mhw2graph\u001b[0m\u001b[0;34m.\u001b[0m\u001b[0mprocess\u001b[0m\u001b[0;34m(\u001b[0m\u001b[0mhw_design_path\u001b[0m\u001b[0;34m)\u001b[0m\u001b[0;34m\u001b[0m\u001b[0;34m\u001b[0m\u001b[0m\n\u001b[1;32m      5\u001b[0m \u001b[0;34m\u001b[0m\u001b[0m\n",
            "\u001b[0;31mNameError\u001b[0m: name 'hw_design_dir_path' is not defined"
          ]
        }
      ]
    },
    {
      "cell_type": "code",
      "source": [
        "graph_data = next(iter(vis_loader)).to(cfg.device)\n",
        "graph_embed, _ = model.embed_graph(graph_data.x, graph_data.edge_index, graph_data.batch)\n",
        "print(graph_embed)"
      ],
      "metadata": {
        "id": "ZlMKUMMN0rhL",
        "colab": {
          "base_uri": "https://localhost:8080/",
          "height": 173
        },
        "outputId": "e39a4cba-cfd9-457c-e83b-88c812798dfe"
      },
      "execution_count": 6,
      "outputs": [
        {
          "output_type": "error",
          "ename": "NameError",
          "evalue": "name 'vis_loader' is not defined",
          "traceback": [
            "\u001b[0;31m---------------------------------------------------------------------------\u001b[0m",
            "\u001b[0;31mNameError\u001b[0m                                 Traceback (most recent call last)",
            "\u001b[0;32m<ipython-input-6-3bdadc072399>\u001b[0m in \u001b[0;36m<cell line: 1>\u001b[0;34m()\u001b[0m\n\u001b[0;32m----> 1\u001b[0;31m \u001b[0mgraph_data\u001b[0m \u001b[0;34m=\u001b[0m \u001b[0mnext\u001b[0m\u001b[0;34m(\u001b[0m\u001b[0miter\u001b[0m\u001b[0;34m(\u001b[0m\u001b[0mvis_loader\u001b[0m\u001b[0;34m)\u001b[0m\u001b[0;34m)\u001b[0m\u001b[0;34m.\u001b[0m\u001b[0mto\u001b[0m\u001b[0;34m(\u001b[0m\u001b[0mcfg\u001b[0m\u001b[0;34m.\u001b[0m\u001b[0mdevice\u001b[0m\u001b[0;34m)\u001b[0m\u001b[0;34m\u001b[0m\u001b[0;34m\u001b[0m\u001b[0m\n\u001b[0m\u001b[1;32m      2\u001b[0m \u001b[0mgraph_embed\u001b[0m\u001b[0;34m,\u001b[0m \u001b[0m_\u001b[0m \u001b[0;34m=\u001b[0m \u001b[0mmodel\u001b[0m\u001b[0;34m.\u001b[0m\u001b[0membed_graph\u001b[0m\u001b[0;34m(\u001b[0m\u001b[0mgraph_data\u001b[0m\u001b[0;34m.\u001b[0m\u001b[0mx\u001b[0m\u001b[0;34m,\u001b[0m \u001b[0mgraph_data\u001b[0m\u001b[0;34m.\u001b[0m\u001b[0medge_index\u001b[0m\u001b[0;34m,\u001b[0m \u001b[0mgraph_data\u001b[0m\u001b[0;34m.\u001b[0m\u001b[0mbatch\u001b[0m\u001b[0;34m)\u001b[0m\u001b[0;34m\u001b[0m\u001b[0;34m\u001b[0m\u001b[0m\n\u001b[1;32m      3\u001b[0m \u001b[0mprint\u001b[0m\u001b[0;34m(\u001b[0m\u001b[0mgraph_embed\u001b[0m\u001b[0;34m)\u001b[0m\u001b[0;34m\u001b[0m\u001b[0;34m\u001b[0m\u001b[0m\n",
            "\u001b[0;31mNameError\u001b[0m: name 'vis_loader' is not defined"
          ]
        }
      ]
    },
    {
      "cell_type": "markdown",
      "source": [
        "Use Case 2"
      ],
      "metadata": {
        "id": "edKcXUByMtU7"
      }
    },
    {
      "cell_type": "code",
      "source": [
        "args = [\n",
        "    '--yaml_path', '/content/drive/MyDrive/HW2VEC/examples/example_gnn4tj.yaml',\n",
        "    '--raw_dataset_path', '/content/drive/MyDrive/HW2VEC/assets/datasets/TJ-RTL-toy/',\n",
        "    '--data_pkl_path', '/content/drive/MyDrive/HW2VEC/examples/dfg_tj_rtl.pkl',\n",
        "    '--graph_type', 'DFG',\n",
        "    '--device', 'cuda'\n",
        "    ]\n",
        "cfg = Config(args)"
      ],
      "metadata": {
        "id": "QL-RWyOANJL0"
      },
      "execution_count": 7,
      "outputs": []
    },
    {
      "cell_type": "code",
      "source": [
        "''' prepare graph data '''\n",
        "print(cfg.raw_dataset_path)\n",
        "for verilog_path in glob(\"%s/**/*.v\" % str(cfg.raw_dataset_path), recursive=True):\n",
        "    folder_name = Path(verilog_path).parent\n",
        "    print(folder_name)\n",
        "\n",
        "''' converting graph using hw2graph '''\n",
        "nx_graphs = []\n",
        "hw2graph = HW2GRAPH(cfg)\n",
        "for hw_project_path in hw2graph.find_hw_project_folders():\n",
        "    hw_graph = hw2graph.code2graph(hw_project_path)\n",
        "    print(hw_graph)\n",
        "    nx_graphs.append(hw_graph)\n",
        "\n",
        "data_proc = DataProcessor(cfg)\n",
        "for hw_graph in nx_graphs:\n",
        "    data_proc.process(hw_graph)\n",
        "data_proc.cache_graph_data(cfg.data_pkl_path)"
      ],
      "metadata": {
        "colab": {
          "base_uri": "https://localhost:8080/"
        },
        "collapsed": true,
        "id": "TWmMO8CBMs8N",
        "outputId": "94b71c59-d30a-426e-fbe9-5e5b973c9e3e"
      },
      "execution_count": 8,
      "outputs": [
        {
          "output_type": "stream",
          "name": "stdout",
          "text": [
            "/content/drive/MyDrive/HW2VEC/assets/datasets/TJ-RTL-toy\n",
            "/content/drive/MyDrive/HW2VEC/assets/datasets/TJ-RTL-toy/TjIn/PIC16F84-T100\n",
            "/content/drive/MyDrive/HW2VEC/assets/datasets/TJ-RTL-toy/TjIn/RS232-T901\n",
            "/content/drive/MyDrive/HW2VEC/assets/datasets/TJ-RTL-toy/TjIn/RS232-T400\n",
            "/content/drive/MyDrive/HW2VEC/assets/datasets/TJ-RTL-toy/TjIn/RS232-T700\n",
            "/content/drive/MyDrive/HW2VEC/assets/datasets/TJ-RTL-toy/TjIn/PIC16F84-T200\n",
            "/content/drive/MyDrive/HW2VEC/assets/datasets/TJ-RTL-toy/TjIn/RS232-T300\n",
            "/content/drive/MyDrive/HW2VEC/assets/datasets/TJ-RTL-toy/TjIn/RS232-T500\n",
            "/content/drive/MyDrive/HW2VEC/assets/datasets/TJ-RTL-toy/TjIn/PIC16F84-T300\n",
            "/content/drive/MyDrive/HW2VEC/assets/datasets/TJ-RTL-toy/TjIn/RS232-T900\n",
            "/content/drive/MyDrive/HW2VEC/assets/datasets/TJ-RTL-toy/TjIn/RS232-T800\n",
            "/content/drive/MyDrive/HW2VEC/assets/datasets/TJ-RTL-toy/TjIn/RS232-T200\n",
            "/content/drive/MyDrive/HW2VEC/assets/datasets/TJ-RTL-toy/TjIn/PIC16F84-T400\n",
            "/content/drive/MyDrive/HW2VEC/assets/datasets/TJ-RTL-toy/TjIn/RS232-T600\n",
            "/content/drive/MyDrive/HW2VEC/assets/datasets/TJ-RTL-toy/TjIn/RS232-T100\n",
            "/content/drive/MyDrive/HW2VEC/assets/datasets/TJ-RTL-toy/TjFree/RC5\n",
            "/content/drive/MyDrive/HW2VEC/assets/datasets/TJ-RTL-toy/TjFree/spi_master\n",
            "/content/drive/MyDrive/HW2VEC/assets/datasets/TJ-RTL-toy/TjFree/RC6\n",
            "/content/drive/MyDrive/HW2VEC/assets/datasets/TJ-RTL-toy/TjFree/xtea\n",
            "/content/drive/MyDrive/HW2VEC/assets/datasets/TJ-RTL-toy/TjFree/RS232\n",
            "/content/drive/MyDrive/HW2VEC/assets/datasets/TJ-RTL-toy/TjFree/syncRAM\n",
            "/content/drive/MyDrive/HW2VEC/assets/datasets/TJ-RTL-toy/TjFree/det_1011\n",
            "/content/drive/MyDrive/HW2VEC/assets/datasets/TJ-RTL-toy/TjFree/vga\n",
            "/content/drive/MyDrive/HW2VEC/assets/datasets/TJ-RTL-toy/TjFree/PIC16F84\n",
            "/content/drive/MyDrive/HW2VEC/assets/datasets/TJ-RTL-toy/TjFree/syncRAM/topModule.v , 32 , 32 , 2.453639268875122\n",
            "DiGraph named 'syncRAM' with 32 nodes and 32 edges\n",
            "/content/drive/MyDrive/HW2VEC/assets/datasets/TJ-RTL-toy/TjIn/PIC16F84-T300/topModule.v , 2636 , 3694 , 5.896399021148682\n",
            "DiGraph named 'PIC16F84-T300' with 2636 nodes and 3694 edges\n",
            "/content/drive/MyDrive/HW2VEC/assets/datasets/TJ-RTL-toy/TjIn/RS232-T100/topModule.v , 760 , 891 , 2.2540981769561768\n",
            "DiGraph named 'RS232-T100' with 760 nodes and 891 edges\n",
            "/content/drive/MyDrive/HW2VEC/assets/datasets/TJ-RTL-toy/TjFree/PIC16F84/topModule.v , 2541 , 3576 , 6.126095294952393\n",
            "DiGraph named 'PIC16F84' with 2541 nodes and 3576 edges\n",
            "/content/drive/MyDrive/HW2VEC/assets/datasets/TJ-RTL-toy/TjIn/RS232-T600/topModule.v , 833 , 1034 , 4.143155813217163\n",
            "DiGraph named 'RS232-T600' with 833 nodes and 1034 edges\n",
            "/content/drive/MyDrive/HW2VEC/assets/datasets/TJ-RTL-toy/TjIn/PIC16F84-T400/topModule.v , 2636 , 3694 , 5.261211156845093\n",
            "DiGraph named 'PIC16F84-T400' with 2636 nodes and 3694 edges\n",
            "/content/drive/MyDrive/HW2VEC/assets/datasets/TJ-RTL-toy/TjIn/RS232-T300/topModule.v , 717 , 838 , 2.1782286167144775\n",
            "DiGraph named 'RS232-T300' with 717 nodes and 838 edges\n",
            "/content/drive/MyDrive/HW2VEC/assets/datasets/TJ-RTL-toy/TjFree/spi_master/topModule.v , 144 , 195 , 2.604264497756958\n",
            "DiGraph named 'spi_master' with 144 nodes and 195 edges\n",
            "/content/drive/MyDrive/HW2VEC/assets/datasets/TJ-RTL-toy/TjFree/RC6/topModule.v , 2411 , 2716 , 9.627763986587524\n",
            "DiGraph named 'RC6' with 2411 nodes and 2716 edges\n",
            "/content/drive/MyDrive/HW2VEC/assets/datasets/TJ-RTL-toy/TjIn/RS232-T700/topModule.v , 833 , 1034 , 2.493823289871216\n",
            "DiGraph named 'RS232-T700' with 833 nodes and 1034 edges\n",
            "/content/drive/MyDrive/HW2VEC/assets/datasets/TJ-RTL-toy/TjIn/RS232-T500/topModule.v , 739 , 862 , 3.7195403575897217\n",
            "DiGraph named 'RS232-T500' with 739 nodes and 862 edges\n",
            "/content/drive/MyDrive/HW2VEC/assets/datasets/TJ-RTL-toy/TjFree/RC5/topModule.v , 2180 , 2463 , 8.679938316345215\n",
            "DiGraph named 'RC5' with 2180 nodes and 2463 edges\n",
            "/content/drive/MyDrive/HW2VEC/assets/datasets/TJ-RTL-toy/TjIn/RS232-T800/topModule.v , 870 , 1075 , 2.72290301322937\n",
            "DiGraph named 'RS232-T800' with 870 nodes and 1075 edges\n",
            "/content/drive/MyDrive/HW2VEC/assets/datasets/TJ-RTL-toy/TjFree/xtea/topModule.v , 1830 , 2170 , 3.6546947956085205\n",
            "DiGraph named 'xtea' with 1830 nodes and 2170 edges\n",
            "/content/drive/MyDrive/HW2VEC/assets/datasets/TJ-RTL-toy/TjIn/RS232-T200/topModule.v , 795 , 926 , 2.108384132385254\n",
            "DiGraph named 'RS232-T200' with 795 nodes and 926 edges\n",
            "/content/drive/MyDrive/HW2VEC/assets/datasets/TJ-RTL-toy/TjIn/RS232-T901/topModule.v , 882 , 1102 , 2.4749481678009033\n",
            "DiGraph named 'RS232-T901' with 882 nodes and 1102 edges\n",
            "/content/drive/MyDrive/HW2VEC/assets/datasets/TJ-RTL-toy/TjIn/PIC16F84-T100/topModule.v , 2632 , 3692 , 5.698335886001587\n",
            "DiGraph named 'PIC16F84-T100' with 2632 nodes and 3692 edges\n",
            "/content/drive/MyDrive/HW2VEC/assets/datasets/TJ-RTL-toy/TjFree/vga/topModule.v , 41 , 46 , 2.692328453063965\n",
            "DiGraph named 'vga' with 41 nodes and 46 edges\n",
            "/content/drive/MyDrive/HW2VEC/assets/datasets/TJ-RTL-toy/TjIn/RS232-T900/topModule.v , 782 , 972 , 2.4883346557617188\n",
            "DiGraph named 'RS232-T900' with 782 nodes and 972 edges\n",
            "/content/drive/MyDrive/HW2VEC/assets/datasets/TJ-RTL-toy/TjFree/det_1011/topModule.v , 71 , 63 , 1.9319381713867188\n",
            "DiGraph named 'det_1011' with 71 nodes and 63 edges\n",
            "/content/drive/MyDrive/HW2VEC/assets/datasets/TJ-RTL-toy/TjFree/RS232/topModule.v , 668 , 783 , 2.1004083156585693\n",
            "DiGraph named 'RS232' with 668 nodes and 783 edges\n",
            "/content/drive/MyDrive/HW2VEC/assets/datasets/TJ-RTL-toy/TjIn/PIC16F84-T200/topModule.v , 2636 , 3694 , 6.21087384223938\n",
            "DiGraph named 'PIC16F84-T200' with 2636 nodes and 3694 edges\n",
            "/content/drive/MyDrive/HW2VEC/assets/datasets/TJ-RTL-toy/TjIn/RS232-T400/topModule.v , 747 , 875 , 2.5024752616882324\n",
            "DiGraph named 'RS232-T400' with 747 nodes and 875 edges\n"
          ]
        }
      ]
    },
    {
      "cell_type": "code",
      "source": [
        "''' prepare dataset '''\n",
        "TROJAN = 1\n",
        "NON_TROJAN = 0\n",
        "\n",
        "all_graphs = data_proc.get_graphs()\n",
        "print(all_graphs)\n",
        "for data in all_graphs:\n",
        "    if \"TjFree\" == data.hw_type:\n",
        "        data.label = NON_TROJAN\n",
        "    else:\n",
        "        data.label = TROJAN\n",
        "\n",
        "train_graphs, test_graphs = data_proc.split_dataset(ratio=cfg.ratio, seed=cfg.seed, dataset=all_graphs)\n",
        "train_loader = DataLoader(train_graphs, shuffle=True, batch_size=cfg.batch_size)\n",
        "valid_loader = DataLoader(test_graphs, shuffle=True, batch_size=1)"
      ],
      "metadata": {
        "colab": {
          "base_uri": "https://localhost:8080/"
        },
        "id": "TtJb3UcIM5P0",
        "outputId": "06684318-3a5d-47fa-a199-b6c80f4743bd"
      },
      "execution_count": 9,
      "outputs": [
        {
          "output_type": "stream",
          "name": "stdout",
          "text": [
            "[Data(x=[32], edge_index=[2, 32], label=[32], name='syncRAM', hw_name='syncRAM', hw_type='TjFree'), Data(x=[2636], edge_index=[2, 3694], label=[2636], name='PIC16F84-T300', hw_name='PIC16F84-T300', hw_type='TjIn'), Data(x=[760], edge_index=[2, 891], label=[760], name='RS232-T100', hw_name='RS232-T100', hw_type='TjIn'), Data(x=[2541], edge_index=[2, 3576], label=[2541], name='PIC16F84', hw_name='PIC16F84', hw_type='TjFree'), Data(x=[833], edge_index=[2, 1034], label=[833], name='RS232-T600', hw_name='RS232-T600', hw_type='TjIn'), Data(x=[2636], edge_index=[2, 3694], label=[2636], name='PIC16F84-T400', hw_name='PIC16F84-T400', hw_type='TjIn'), Data(x=[717], edge_index=[2, 838], label=[717], name='RS232-T300', hw_name='RS232-T300', hw_type='TjIn'), Data(x=[144], edge_index=[2, 195], label=[144], name='spi_master', hw_name='spi_master', hw_type='TjFree'), Data(x=[2411], edge_index=[2, 2716], label=[2411], name='RC6', hw_name='RC6', hw_type='TjFree'), Data(x=[833], edge_index=[2, 1034], label=[833], name='RS232-T700', hw_name='RS232-T700', hw_type='TjIn'), Data(x=[739], edge_index=[2, 862], label=[739], name='RS232-T500', hw_name='RS232-T500', hw_type='TjIn'), Data(x=[2180], edge_index=[2, 2463], label=[2180], name='RC5', hw_name='RC5', hw_type='TjFree'), Data(x=[870], edge_index=[2, 1075], label=[870], name='RS232-T800', hw_name='RS232-T800', hw_type='TjIn'), Data(x=[1830], edge_index=[2, 2170], label=[1830], name='xtea', hw_name='xtea', hw_type='TjFree'), Data(x=[795], edge_index=[2, 926], label=[795], name='RS232-T200', hw_name='RS232-T200', hw_type='TjIn'), Data(x=[882], edge_index=[2, 1102], label=[882], name='RS232-T901', hw_name='RS232-T901', hw_type='TjIn'), Data(x=[2632], edge_index=[2, 3692], label=[2632], name='PIC16F84-T100', hw_name='PIC16F84-T100', hw_type='TjIn'), Data(x=[41], edge_index=[2, 46], label=[41], name='vga', hw_name='vga', hw_type='TjFree'), Data(x=[782], edge_index=[2, 972], label=[782], name='RS232-T900', hw_name='RS232-T900', hw_type='TjIn'), Data(x=[71], edge_index=[2, 63], label=[71], name='det_1011', hw_name='det_1011', hw_type='TjFree'), Data(x=[668], edge_index=[2, 783], label=[668], name='RS232', hw_name='RS232', hw_type='TjFree'), Data(x=[2636], edge_index=[2, 3694], label=[2636], name='PIC16F84-T200', hw_name='PIC16F84-T200', hw_type='TjIn'), Data(x=[747], edge_index=[2, 875], label=[747], name='RS232-T400', hw_name='RS232-T400', hw_type='TjIn')]\n"
          ]
        }
      ]
    },
    {
      "cell_type": "code",
      "source": [
        "''' model configuration '''\n",
        "model = GRAPH2VEC(cfg)\n",
        "\n",
        "convs = [\n",
        "    GRAPH_CONV(\"gcn\", data_proc.num_node_labels, cfg.hidden),\n",
        "    GRAPH_CONV(\"gcn\", cfg.hidden, cfg.hidden)\n",
        "]\n",
        "model.set_graph_conv(convs)\n",
        "\n",
        "pool = GRAPH_POOL(\"sagpool\", cfg.hidden, cfg.poolratio)\n",
        "model.set_graph_pool(pool)\n",
        "\n",
        "readout = GRAPH_READOUT(\"max\")\n",
        "model.set_graph_readout(readout)\n",
        "\n",
        "output = nn.Linear(cfg.hidden, cfg.embed_dim)\n",
        "model.set_output_layer(output)"
      ],
      "metadata": {
        "id": "ZPsQHDhzWWIS"
      },
      "execution_count": 10,
      "outputs": []
    },
    {
      "cell_type": "code",
      "source": [
        "''' training '''\n",
        "training_labels = [data.label for data in train_graphs]\n",
        "print(training_labels)\n",
        "tl_class_weights = torch.tensor(compute_class_weight('balanced', classes=np.unique(training_labels), y=training_labels), dtype=torch.float)\n",
        "\n",
        "model.to(cfg.device)\n",
        "#trainer = GraphTrainer(cfg, class_weights=data_proc.get_class_weights(train_graphs))\n",
        "trainer = GraphTrainer(cfg, class_weights=tl_class_weights)\n",
        "trainer.build(model)\n",
        "trainer.train(train_loader, valid_loader)"
      ],
      "metadata": {
        "colab": {
          "base_uri": "https://localhost:8080/"
        },
        "collapsed": true,
        "id": "zyeD8SzcWoul",
        "outputId": "6ab18cf5-56c7-4409-877c-a51ce6ab3832"
      },
      "execution_count": 11,
      "outputs": [
        {
          "output_type": "stream",
          "name": "stdout",
          "text": [
            "[1, 0, 1, 1, 0, 1, 0, 1, 1, 0, 0, 0, 1, 1, 1, 1, 0, 1]\n"
          ]
        },
        {
          "output_type": "stream",
          "name": "stderr",
          "text": [
            "Epoch: 0003, loss_train: 3.2377:   2%|▏         | 4/200 [00:02<01:38,  1.99it/s]"
          ]
        },
        {
          "output_type": "stream",
          "name": "stdout",
          "text": [
            "\n",
            "Mini Test for Epochs 0:\n",
            "train loss: 0.615332, train accuracy: 0.6111, train f1 score: 0.7586, train confusion_matrix: [[ 0  7], [ 0 11]], train precision: 0.6111, train recall: 1.0000\n",
            "test  loss: 0.653310, test  accuracy: 0.6000, test  f1 score: 0.7500, test  confusion_matrix: [[0 2], [0 3]], test  precision: 0.6000, test  recall: 1.0000\n"
          ]
        },
        {
          "output_type": "stream",
          "name": "stderr",
          "text": [
            "Epoch: 0014, loss_train: 3.3833:   8%|▊         | 15/200 [00:03<00:19,  9.70it/s]"
          ]
        },
        {
          "output_type": "stream",
          "name": "stdout",
          "text": [
            "\n",
            "Mini Test for Epochs 10:\n",
            "train loss: 0.574183, train accuracy: 0.7222, train f1 score: 0.8148, train confusion_matrix: [[ 2  5], [ 0 11]], train precision: 0.6875, train recall: 1.0000\n",
            "test  loss: 0.578501, test  accuracy: 0.6000, test  f1 score: 0.7500, test  confusion_matrix: [[0 2], [0 3]], test  precision: 0.6000, test  recall: 1.0000\n"
          ]
        },
        {
          "output_type": "stream",
          "name": "stderr",
          "text": [
            "Epoch: 0024, loss_train: 2.2037:  12%|█▎        | 25/200 [00:03<00:11, 15.20it/s]"
          ]
        },
        {
          "output_type": "stream",
          "name": "stdout",
          "text": [
            "\n",
            "Mini Test for Epochs 20:\n",
            "train loss: 0.488388, train accuracy: 0.8333, train f1 score: 0.8800, train confusion_matrix: [[ 4  3], [ 0 11]], train precision: 0.7857, train recall: 1.0000\n",
            "test  loss: 0.532177, test  accuracy: 0.8000, test  f1 score: 0.8571, test  confusion_matrix: [[1 1], [0 3]], test  precision: 0.7500, test  recall: 1.0000\n"
          ]
        },
        {
          "output_type": "stream",
          "name": "stderr",
          "text": [
            "Epoch: 0033, loss_train: 1.6878:  17%|█▋        | 34/200 [00:04<00:10, 16.49it/s]"
          ]
        },
        {
          "output_type": "stream",
          "name": "stdout",
          "text": [
            "\n",
            "Mini Test for Epochs 30:\n",
            "train loss: 0.418793, train accuracy: 0.8889, train f1 score: 0.9167, train confusion_matrix: [[ 5  2], [ 0 11]], train precision: 0.8462, train recall: 1.0000\n",
            "test  loss: 0.472730, test  accuracy: 0.8000, test  f1 score: 0.8571, test  confusion_matrix: [[1 1], [0 3]], test  precision: 0.7500, test  recall: 1.0000\n"
          ]
        },
        {
          "output_type": "stream",
          "name": "stderr",
          "text": [
            "Epoch: 0042, loss_train: 3.1178:  22%|██▏       | 43/200 [00:04<00:09, 15.98it/s]"
          ]
        },
        {
          "output_type": "stream",
          "name": "stdout",
          "text": [
            "\n",
            "Mini Test for Epochs 40:\n",
            "train loss: 0.675159, train accuracy: 0.5556, train f1 score: 0.6364, train confusion_matrix: [[3 4], [4 7]], train precision: 0.6364, train recall: 0.6364\n",
            "test  loss: 0.656324, test  accuracy: 0.6000, test  f1 score: 0.6667, test  confusion_matrix: [[1 1], [1 2]], test  precision: 0.6667, test  recall: 0.6667\n"
          ]
        },
        {
          "output_type": "stream",
          "name": "stderr",
          "text": [
            "Epoch: 0054, loss_train: 3.0850:  27%|██▋       | 54/200 [00:05<00:07, 18.54it/s]"
          ]
        },
        {
          "output_type": "stream",
          "name": "stdout",
          "text": [
            "\n",
            "Mini Test for Epochs 50:\n",
            "train loss: 0.654570, train accuracy: 0.6111, train f1 score: 0.6957, train confusion_matrix: [[3 4], [3 8]], train precision: 0.6667, train recall: 0.7273\n",
            "test  loss: 0.622000, test  accuracy: 0.6000, test  f1 score: 0.6667, test  confusion_matrix: [[1 1], [1 2]], test  precision: 0.6667, test  recall: 0.6667\n"
          ]
        },
        {
          "output_type": "stream",
          "name": "stderr",
          "text": [
            "Epoch: 0062, loss_train: 2.1329:  32%|███▏      | 63/200 [00:05<00:08, 15.88it/s]"
          ]
        },
        {
          "output_type": "stream",
          "name": "stdout",
          "text": [
            "\n",
            "Mini Test for Epochs 60:\n",
            "train loss: 0.450077, train accuracy: 0.8889, train f1 score: 0.9167, train confusion_matrix: [[ 5  2], [ 0 11]], train precision: 0.8462, train recall: 1.0000\n",
            "test  loss: 0.585707, test  accuracy: 0.8000, test  f1 score: 0.8571, test  confusion_matrix: [[1 1], [0 3]], test  precision: 0.7500, test  recall: 1.0000\n"
          ]
        },
        {
          "output_type": "stream",
          "name": "stderr",
          "text": [
            "Epoch: 0072, loss_train: 1.5356:  36%|███▋      | 73/200 [00:06<00:07, 16.27it/s]"
          ]
        },
        {
          "output_type": "stream",
          "name": "stdout",
          "text": [
            "\n",
            "Mini Test for Epochs 70:\n",
            "train loss: 0.389814, train accuracy: 0.8889, train f1 score: 0.9167, train confusion_matrix: [[ 5  2], [ 0 11]], train precision: 0.8462, train recall: 1.0000\n",
            "test  loss: 0.409645, test  accuracy: 0.8000, test  f1 score: 0.8571, test  confusion_matrix: [[1 1], [0 3]], test  precision: 0.7500, test  recall: 1.0000\n"
          ]
        },
        {
          "output_type": "stream",
          "name": "stderr",
          "text": [
            "Epoch: 0083, loss_train: 1.7783:  42%|████▏     | 83/200 [00:07<00:07, 15.08it/s]"
          ]
        },
        {
          "output_type": "stream",
          "name": "stdout",
          "text": [
            "\n",
            "Mini Test for Epochs 80:\n",
            "train loss: 0.315600, train accuracy: 0.8889, train f1 score: 0.9167, train confusion_matrix: [[ 5  2], [ 0 11]], train precision: 0.8462, train recall: 1.0000\n",
            "test  loss: 0.430721, test  accuracy: 0.8000, test  f1 score: 0.8571, test  confusion_matrix: [[1 1], [0 3]], test  precision: 0.7500, test  recall: 1.0000\n"
          ]
        },
        {
          "output_type": "stream",
          "name": "stderr",
          "text": [
            "Epoch: 0092, loss_train: 1.6916:  46%|████▌     | 92/200 [00:07<00:07, 14.25it/s]"
          ]
        },
        {
          "output_type": "stream",
          "name": "stdout",
          "text": [
            "\n",
            "Mini Test for Epochs 90:\n",
            "train loss: 0.294409, train accuracy: 0.8889, train f1 score: 0.9167, train confusion_matrix: [[ 5  2], [ 0 11]], train precision: 0.8462, train recall: 1.0000\n",
            "test  loss: 0.497553, test  accuracy: 0.8000, test  f1 score: 0.8571, test  confusion_matrix: [[1 1], [0 3]], test  precision: 0.7500, test  recall: 1.0000\n"
          ]
        },
        {
          "output_type": "stream",
          "name": "stderr",
          "text": [
            "Epoch: 0103, loss_train: 2.9722:  52%|█████▏    | 104/200 [00:08<00:06, 15.92it/s]"
          ]
        },
        {
          "output_type": "stream",
          "name": "stdout",
          "text": [
            "\n",
            "Mini Test for Epochs 100:\n",
            "train loss: 0.673587, train accuracy: 0.6111, train f1 score: 0.6957, train confusion_matrix: [[3 4], [3 8]], train precision: 0.6667, train recall: 0.7273\n",
            "test  loss: 0.628470, test  accuracy: 0.6000, test  f1 score: 0.6667, test  confusion_matrix: [[1 1], [1 2]], test  precision: 0.6667, test  recall: 0.6667\n"
          ]
        },
        {
          "output_type": "stream",
          "name": "stderr",
          "text": [
            "Epoch: 0113, loss_train: 2.9294:  57%|█████▋    | 114/200 [00:09<00:05, 14.82it/s]"
          ]
        },
        {
          "output_type": "stream",
          "name": "stdout",
          "text": [
            "\n",
            "Mini Test for Epochs 110:\n",
            "train loss: 0.635265, train accuracy: 0.7222, train f1 score: 0.7619, train confusion_matrix: [[5 2], [3 8]], train precision: 0.8000, train recall: 0.7273\n",
            "test  loss: 0.625029, test  accuracy: 0.8000, test  f1 score: 0.8000, test  confusion_matrix: [[2 0], [1 2]], test  precision: 1.0000, test  recall: 0.6667\n"
          ]
        },
        {
          "output_type": "stream",
          "name": "stderr",
          "text": [
            "Epoch: 0122, loss_train: 2.9513:  61%|██████    | 122/200 [00:09<00:05, 13.47it/s]"
          ]
        },
        {
          "output_type": "stream",
          "name": "stdout",
          "text": [
            "\n",
            "Mini Test for Epochs 120:\n",
            "train loss: 0.654611, train accuracy: 0.6667, train f1 score: 0.7000, train confusion_matrix: [[5 2], [4 7]], train precision: 0.7778, train recall: 0.6364\n",
            "test  loss: 0.630354, test  accuracy: 0.8000, test  f1 score: 0.8000, test  confusion_matrix: [[2 0], [1 2]], test  precision: 1.0000, test  recall: 0.6667\n"
          ]
        },
        {
          "output_type": "stream",
          "name": "stderr",
          "text": [
            "Epoch: 0132, loss_train: 1.1155:  66%|██████▌   | 132/200 [00:10<00:05, 12.91it/s]"
          ]
        },
        {
          "output_type": "stream",
          "name": "stdout",
          "text": [
            "\n",
            "Mini Test for Epochs 130:\n",
            "train loss: 0.353453, train accuracy: 0.9444, train f1 score: 0.9565, train confusion_matrix: [[ 6  1], [ 0 11]], train precision: 0.9167, train recall: 1.0000\n",
            "test  loss: 0.385981, test  accuracy: 1.0000, test  f1 score: 1.0000, test  confusion_matrix: [[2 0], [0 3]], test  precision: 1.0000, test  recall: 1.0000\n"
          ]
        },
        {
          "output_type": "stream",
          "name": "stderr",
          "text": [
            "Epoch: 0143, loss_train: 1.3360:  72%|███████▏  | 143/200 [00:11<00:03, 14.98it/s]"
          ]
        },
        {
          "output_type": "stream",
          "name": "stdout",
          "text": [
            "\n",
            "Mini Test for Epochs 140:\n",
            "train loss: 0.325166, train accuracy: 0.8889, train f1 score: 0.9167, train confusion_matrix: [[ 5  2], [ 0 11]], train precision: 0.8462, train recall: 1.0000\n",
            "test  loss: 0.390495, test  accuracy: 0.8000, test  f1 score: 0.8571, test  confusion_matrix: [[1 1], [0 3]], test  precision: 0.7500, test  recall: 1.0000\n"
          ]
        },
        {
          "output_type": "stream",
          "name": "stderr",
          "text": [
            "Epoch: 0154, loss_train: 2.4612:  77%|███████▋  | 154/200 [00:11<00:02, 18.38it/s]"
          ]
        },
        {
          "output_type": "stream",
          "name": "stdout",
          "text": [
            "\n",
            "Mini Test for Epochs 150:\n",
            "train loss: 0.545986, train accuracy: 0.7778, train f1 score: 0.8182, train confusion_matrix: [[5 2], [2 9]], train precision: 0.8182, train recall: 0.8182\n",
            "test  loss: 0.640420, test  accuracy: 0.8000, test  f1 score: 0.8000, test  confusion_matrix: [[2 0], [1 2]], test  precision: 1.0000, test  recall: 0.6667\n"
          ]
        },
        {
          "output_type": "stream",
          "name": "stderr",
          "text": [
            "Epoch: 0164, loss_train: 2.7051:  82%|████████▏ | 164/200 [00:12<00:01, 18.49it/s]"
          ]
        },
        {
          "output_type": "stream",
          "name": "stdout",
          "text": [
            "\n",
            "Mini Test for Epochs 160:\n",
            "train loss: 0.542796, train accuracy: 0.8333, train f1 score: 0.8696, train confusion_matrix: [[ 5  2], [ 1 10]], train precision: 0.8333, train recall: 0.9091\n",
            "test  loss: 0.642284, test  accuracy: 0.8000, test  f1 score: 0.8000, test  confusion_matrix: [[2 0], [1 2]], test  precision: 1.0000, test  recall: 0.6667\n"
          ]
        },
        {
          "output_type": "stream",
          "name": "stderr",
          "text": [
            "Epoch: 0174, loss_train: 1.5685:  86%|████████▋ | 173/200 [00:12<00:01, 18.61it/s]"
          ]
        },
        {
          "output_type": "stream",
          "name": "stdout",
          "text": [
            "\n",
            "Mini Test for Epochs 170:\n",
            "train loss: 0.326724, train accuracy: 0.8889, train f1 score: 0.9167, train confusion_matrix: [[ 5  2], [ 0 11]], train precision: 0.8462, train recall: 1.0000\n",
            "test  loss: 0.438426, test  accuracy: 0.8000, test  f1 score: 0.8571, test  confusion_matrix: [[1 1], [0 3]], test  precision: 0.7500, test  recall: 1.0000\n"
          ]
        },
        {
          "output_type": "stream",
          "name": "stderr",
          "text": [
            "Epoch: 0184, loss_train: 1.2616:  92%|█████████▏| 184/200 [00:13<00:00, 19.31it/s]"
          ]
        },
        {
          "output_type": "stream",
          "name": "stdout",
          "text": [
            "\n",
            "Mini Test for Epochs 180:\n",
            "train loss: 0.275615, train accuracy: 0.8889, train f1 score: 0.9167, train confusion_matrix: [[ 5  2], [ 0 11]], train precision: 0.8462, train recall: 1.0000\n",
            "test  loss: 0.483484, test  accuracy: 0.8000, test  f1 score: 0.8571, test  confusion_matrix: [[1 1], [0 3]], test  precision: 0.7500, test  recall: 1.0000\n"
          ]
        },
        {
          "output_type": "stream",
          "name": "stderr",
          "text": [
            "Epoch: 0194, loss_train: 2.3016:  96%|█████████▋| 193/200 [00:13<00:00, 19.01it/s]"
          ]
        },
        {
          "output_type": "stream",
          "name": "stdout",
          "text": [
            "\n",
            "Mini Test for Epochs 190:\n",
            "train loss: 0.591995, train accuracy: 0.8889, train f1 score: 0.9091, train confusion_matrix: [[ 6  1], [ 1 10]], train precision: 0.9091, train recall: 0.9091\n",
            "test  loss: 0.646756, test  accuracy: 0.8000, test  f1 score: 0.8000, test  confusion_matrix: [[2 0], [1 2]], test  precision: 1.0000, test  recall: 0.6667\n"
          ]
        },
        {
          "output_type": "stream",
          "name": "stderr",
          "text": [
            "Epoch: 0199, loss_train: 2.1713: 100%|██████████| 200/200 [00:13<00:00, 14.30it/s]\n"
          ]
        }
      ]
    },
    {
      "cell_type": "code",
      "source": [
        "trainer.evaluate(cfg.epochs, train_loader, valid_loader)\n",
        "vis_loader = DataLoader(all_graphs, shuffle=False, batch_size=1)\n",
        "trainer.visualize_embeddings(vis_loader, \"./\")"
      ],
      "metadata": {
        "colab": {
          "base_uri": "https://localhost:8080/"
        },
        "id": "pr1n15-peCp0",
        "outputId": "6b9e4f21-a17f-46e6-84f1-6f0f040dc79b"
      },
      "execution_count": null,
      "outputs": [
        {
          "output_type": "stream",
          "name": "stdout",
          "text": [
            "\n",
            "Mini Test for Epochs 200:\n",
            "train loss: 0.183219, train accuracy: 0.9444, train f1 score: 0.9565, train confusion_matrix: [[ 6  1], [ 0 11]], train precision: 0.9167, train recall: 1.0000\n",
            "test  loss: 0.084670, test  accuracy: 1.0000, test  f1 score: 1.0000, test  confusion_matrix: [[2 0], [0 3]], test  precision: 1.0000, test  recall: 1.0000\n",
            "best  loss: 0.080683, best  accuracy: 1.0000, best  f1 score: 1.0000, best  confusion_matrix: [[2 0], [0 3]], best  precision: 1.0000, best  recall: 1.0000\n"
          ]
        }
      ]
    },
    {
      "cell_type": "markdown",
      "source": [
        "Use Case 3:"
      ],
      "metadata": {
        "id": "fnPSNe6biNp-"
      }
    },
    {
      "cell_type": "code",
      "source": [
        "args = [\n",
        "    '--yaml_path', '/content/drive/MyDrive/HW2VEC/examples/example_gnn4ip.yaml',\n",
        "    '--raw_dataset_path', '/content/drive/MyDrive/HW2VEC/assets/datasets/IP-RTL-toy/',\n",
        "    '--data_pkl_path', '/content/drive/MyDrive/HW2VEC/examples/dgf_ip_rtl.pkl',\n",
        "    '--graph_type', 'DFG',\n",
        "    '--device', 'cuda'\n",
        "    ]\n",
        "cfg = Config(args)"
      ],
      "metadata": {
        "id": "wMmmGcyWiM-f"
      },
      "execution_count": 12,
      "outputs": []
    },
    {
      "cell_type": "code",
      "source": [
        "''' prepare graph data '''\n",
        "print(cfg.raw_dataset_path)\n",
        "for verilog_path in glob(\"%s/**/*.v\" % str(cfg.raw_dataset_path), recursive=True):\n",
        "    folder_name = Path(verilog_path).parent\n",
        "    print(folder_name)\n",
        "\n",
        "''' converting graph using hw2graph '''\n",
        "nx_graphs = []\n",
        "hw2graph = HW2GRAPH(cfg)\n",
        "for hw_project_path in hw2graph.find_hw_project_folders():\n",
        "    hw_graph = hw2graph.code2graph(hw_project_path)\n",
        "    print(hw_graph)\n",
        "    nx_graphs.append(hw_graph)\n",
        "\n",
        "data_proc = DataProcessor(cfg)\n",
        "for hw_graph in nx_graphs:\n",
        "    data_proc.process(hw_graph)\n",
        "data_proc.cache_graph_data(cfg.data_pkl_path)"
      ],
      "metadata": {
        "colab": {
          "base_uri": "https://localhost:8080/"
        },
        "collapsed": true,
        "id": "z09O6Z8bi_g8",
        "outputId": "cb9ec112-9ec9-4073-cbb7-11bb11e7b01d"
      },
      "execution_count": 13,
      "outputs": [
        {
          "output_type": "stream",
          "name": "stdout",
          "text": [
            "/content/drive/MyDrive/HW2VEC/assets/datasets/IP-RTL-toy\n",
            "/content/drive/MyDrive/HW2VEC/assets/datasets/IP-RTL-toy/adder4bit/adder4bit_3\n",
            "/content/drive/MyDrive/HW2VEC/assets/datasets/IP-RTL-toy/adder4bit/adder4bit_1\n",
            "/content/drive/MyDrive/HW2VEC/assets/datasets/IP-RTL-toy/adder4bit/adder4bit_2\n",
            "/content/drive/MyDrive/HW2VEC/assets/datasets/IP-RTL-toy/adder4bit/adder4bit_4\n",
            "/content/drive/MyDrive/HW2VEC/assets/datasets/IP-RTL-toy/adder4bit/adder4bit_5\n",
            "/content/drive/MyDrive/HW2VEC/assets/datasets/IP-RTL-toy/adder4bit/adder4bit_6\n",
            "/content/drive/MyDrive/HW2VEC/assets/datasets/IP-RTL-toy/adder4bit/adder4bit_7\n",
            "/content/drive/MyDrive/HW2VEC/assets/datasets/IP-RTL-toy/bcdToseg/bcdToseg_4\n",
            "/content/drive/MyDrive/HW2VEC/assets/datasets/IP-RTL-toy/bcdToseg/bcdToseg_3\n",
            "/content/drive/MyDrive/HW2VEC/assets/datasets/IP-RTL-toy/bcdToseg/bcdToseg_6\n",
            "/content/drive/MyDrive/HW2VEC/assets/datasets/IP-RTL-toy/bcdToseg/bcdToseg_2\n",
            "/content/drive/MyDrive/HW2VEC/assets/datasets/IP-RTL-toy/bcdToseg/bcdToseg_8\n",
            "/content/drive/MyDrive/HW2VEC/assets/datasets/IP-RTL-toy/bcdToseg/bcdToseg_7\n",
            "/content/drive/MyDrive/HW2VEC/assets/datasets/IP-RTL-toy/bcdToseg/bcdToseg_5\n",
            "/content/drive/MyDrive/HW2VEC/assets/datasets/IP-RTL-toy/bcdToseg/bcdToseg_1\n",
            "/content/drive/MyDrive/HW2VEC/assets/datasets/IP-RTL-toy/encoder8to3/encoder8to3_1\n",
            "/content/drive/MyDrive/HW2VEC/assets/datasets/IP-RTL-toy/encoder8to3/encoder8to3_6\n",
            "/content/drive/MyDrive/HW2VEC/assets/datasets/IP-RTL-toy/encoder8to3/encoder8to3_2\n",
            "/content/drive/MyDrive/HW2VEC/assets/datasets/IP-RTL-toy/encoder8to3/encoder8to3_4\n",
            "/content/drive/MyDrive/HW2VEC/assets/datasets/IP-RTL-toy/encoder8to3/encoder8to3_3\n",
            "/content/drive/MyDrive/HW2VEC/assets/datasets/IP-RTL-toy/encoder8to3/encoder8to3_5\n",
            "/content/drive/MyDrive/HW2VEC/assets/datasets/IP-RTL-toy/adder4bit/adder4bit_5/topModule.v , 153 , 180 , 2.0767762660980225\n",
            "DiGraph named 'adder4bit_5' with 153 nodes and 180 edges\n",
            "/content/drive/MyDrive/HW2VEC/assets/datasets/IP-RTL-toy/bcdToseg/bcdToseg_8/topModule.v , 65 , 62 , 1.9578208923339844\n",
            "DiGraph named 'bcdToseg_8' with 65 nodes and 62 edges\n",
            "/content/drive/MyDrive/HW2VEC/assets/datasets/IP-RTL-toy/adder4bit/adder4bit_4/topModule.v , 89 , 108 , 2.0453336238861084\n",
            "DiGraph named 'adder4bit_4' with 89 nodes and 108 edges\n",
            "/content/drive/MyDrive/HW2VEC/assets/datasets/IP-RTL-toy/encoder8to3/encoder8to3_4/topModule.v , 52 , 51 , 1.7386925220489502\n",
            "DiGraph named 'encoder8to3_4' with 52 nodes and 51 edges\n",
            "/content/drive/MyDrive/HW2VEC/assets/datasets/IP-RTL-toy/encoder8to3/encoder8to3_2/topModule.v , 48 , 58 , 1.8816907405853271\n",
            "DiGraph named 'encoder8to3_2' with 48 nodes and 58 edges\n",
            "/content/drive/MyDrive/HW2VEC/assets/datasets/IP-RTL-toy/bcdToseg/bcdToseg_4/topModule.v , 65 , 62 , 2.6564135551452637\n",
            "DiGraph named 'bcdToseg_4' with 65 nodes and 62 edges\n",
            "/content/drive/MyDrive/HW2VEC/assets/datasets/IP-RTL-toy/encoder8to3/encoder8to3_5/topModule.v , 43 , 49 , 2.461386203765869\n",
            "DiGraph named 'encoder8to3_5' with 43 nodes and 49 edges\n",
            "/content/drive/MyDrive/HW2VEC/assets/datasets/IP-RTL-toy/encoder8to3/encoder8to3_6/topModule.v , 62 , 49 , 1.8475544452667236\n",
            "DiGraph named 'encoder8to3_6' with 62 nodes and 49 edges\n",
            "/content/drive/MyDrive/HW2VEC/assets/datasets/IP-RTL-toy/bcdToseg/bcdToseg_7/topModule.v , 64 , 62 , 1.7178285121917725\n",
            "DiGraph named 'bcdToseg_7' with 64 nodes and 62 edges\n",
            "/content/drive/MyDrive/HW2VEC/assets/datasets/IP-RTL-toy/adder4bit/adder4bit_2/topModule.v , 97 , 120 , 1.9721567630767822\n",
            "DiGraph named 'adder4bit_2' with 97 nodes and 120 edges\n",
            "/content/drive/MyDrive/HW2VEC/assets/datasets/IP-RTL-toy/adder4bit/adder4bit_7/topModule.v , 89 , 108 , 1.934753179550171\n",
            "DiGraph named 'adder4bit_7' with 89 nodes and 108 edges\n",
            "/content/drive/MyDrive/HW2VEC/assets/datasets/IP-RTL-toy/bcdToseg/bcdToseg_3/topModule.v , 65 , 62 , 2.0271518230438232\n",
            "DiGraph named 'bcdToseg_3' with 65 nodes and 62 edges\n",
            "/content/drive/MyDrive/HW2VEC/assets/datasets/IP-RTL-toy/bcdToseg/bcdToseg_2/topModule.v , 62 , 61 , 2.648983955383301\n",
            "DiGraph named 'bcdToseg_2' with 62 nodes and 61 edges\n",
            "/content/drive/MyDrive/HW2VEC/assets/datasets/IP-RTL-toy/adder4bit/adder4bit_6/topModule.v , 77 , 99 , 2.193093776702881\n",
            "DiGraph named 'adder4bit_6' with 77 nodes and 99 edges\n",
            "/content/drive/MyDrive/HW2VEC/assets/datasets/IP-RTL-toy/bcdToseg/bcdToseg_6/topModule.v , 89 , 109 , 2.9337592124938965\n",
            "DiGraph named 'bcdToseg_6' with 89 nodes and 109 edges\n",
            "/content/drive/MyDrive/HW2VEC/assets/datasets/IP-RTL-toy/encoder8to3/encoder8to3_3/topModule.v , 39 , 51 , 1.727569341659546\n",
            "DiGraph named 'encoder8to3_3' with 39 nodes and 51 edges\n",
            "/content/drive/MyDrive/HW2VEC/assets/datasets/IP-RTL-toy/adder4bit/adder4bit_1/topModule.v , 12 , 13 , 1.8549067974090576\n",
            "DiGraph named 'adder4bit_1' with 12 nodes and 13 edges\n",
            "/content/drive/MyDrive/HW2VEC/assets/datasets/IP-RTL-toy/bcdToseg/bcdToseg_1/topModule.v , 65 , 62 , 2.1976566314697266\n",
            "DiGraph named 'bcdToseg_1' with 65 nodes and 62 edges\n",
            "/content/drive/MyDrive/HW2VEC/assets/datasets/IP-RTL-toy/adder4bit/adder4bit_3/topModule.v , 137 , 157 , 2.9728517532348633\n",
            "DiGraph named 'adder4bit_3' with 137 nodes and 157 edges\n",
            "/content/drive/MyDrive/HW2VEC/assets/datasets/IP-RTL-toy/bcdToseg/bcdToseg_5/topModule.v , 62 , 61 , 1.722956657409668\n",
            "DiGraph named 'bcdToseg_5' with 62 nodes and 61 edges\n",
            "/content/drive/MyDrive/HW2VEC/assets/datasets/IP-RTL-toy/encoder8to3/encoder8to3_1/topModule.v , 45 , 55 , 1.8902385234832764\n",
            "DiGraph named 'encoder8to3_1' with 45 nodes and 55 edges\n"
          ]
        }
      ]
    },
    {
      "cell_type": "code",
      "source": [
        "SIMILAR = 1\n",
        "DISSIMILAR = -1\n",
        "\n",
        "data_proc.generate_pairs()\n",
        "all_pairs = data_proc.get_pairs()\n",
        "for pair_idx, pair in enumerate(all_pairs):\n",
        "    graph_a, graph_b = pair\n",
        "    if graph_a.hw_type == graph_b.hw_type:\n",
        "        all_pairs[pair_idx] += (SIMILAR,)\n",
        "    else:\n",
        "        all_pairs[pair_idx] += (DISSIMILAR,)\n",
        "\n",
        "train_pairs, test_pairs = data_proc.split_dataset(cfg.ratio, cfg.seed, all_pairs)\n",
        "train_loader = DataLoader(train_pairs, shuffle=True, batch_size=cfg.batch_size)\n",
        "test_loader  = DataLoader(test_pairs, shuffle=True, batch_size=cfg.batch_size)"
      ],
      "metadata": {
        "id": "Rl_OArBHkSpo"
      },
      "execution_count": 14,
      "outputs": []
    },
    {
      "cell_type": "code",
      "source": [
        "''' model configuration '''\n",
        "model = GRAPH2VEC(cfg)\n",
        "\n",
        "convs = [\n",
        "    GRAPH_CONV(\"gcn\", data_proc.num_node_labels, cfg.hidden),\n",
        "    GRAPH_CONV(\"gcn\", cfg.hidden, cfg.hidden)\n",
        "]\n",
        "model.set_graph_conv(convs)\n",
        "\n",
        "pool = GRAPH_POOL(\"sagpool\", cfg.hidden, cfg.poolratio)\n",
        "model.set_graph_pool(pool)\n",
        "\n",
        "readout = GRAPH_READOUT(\"max\")\n",
        "model.set_graph_readout(readout)\n",
        "\n",
        "output = nn.Linear(cfg.hidden, cfg.embed_dim)\n",
        "model.set_output_layer(output)"
      ],
      "metadata": {
        "id": "0xpjf909kkY7"
      },
      "execution_count": 15,
      "outputs": []
    },
    {
      "cell_type": "code",
      "source": [
        "''' training '''\n",
        "model.to(cfg.device)\n",
        "trainer = PairwiseGraphTrainer(cfg)\n",
        "trainer.build(model)\n",
        "trainer.train(train_loader, test_loader)"
      ],
      "metadata": {
        "colab": {
          "base_uri": "https://localhost:8080/"
        },
        "id": "OZpHJVbwk3X3",
        "outputId": "28ba0960-ef8f-498a-ade9-684d8e31b77f"
      },
      "execution_count": null,
      "outputs": [
        {
          "output_type": "stream",
          "name": "stderr",
          "text": [
            "Epoch: 0000, loss_train: 0.9986:   0%|          | 1/200 [00:00<01:26,  2.31it/s]"
          ]
        },
        {
          "output_type": "stream",
          "name": "stdout",
          "text": [
            "\n",
            "Mini Test for Epochs 0:\n",
            "train loss: 0.350956, train accuracy: 0.3036, train f1 score: 0.4658, train confusion_matrix: [[  0 117], [  0  51]], train precision: 0.3036, train recall: 1.0000\n",
            "test  loss: 0.345022, test  accuracy: 0.3095, test  f1 score: 0.4727, test  confusion_matrix: [[ 0 29], [ 0 13]], test  precision: 0.3095, test  recall: 1.0000\n"
          ]
        },
        {
          "output_type": "stream",
          "name": "stderr",
          "text": [
            "Epoch: 0011, loss_train: 0.5092:   6%|▌         | 12/200 [00:02<00:31,  5.94it/s]"
          ]
        },
        {
          "output_type": "stream",
          "name": "stdout",
          "text": [
            "\n",
            "Mini Test for Epochs 10:\n",
            "train loss: 0.129461, train accuracy: 0.7619, train f1 score: 0.6970, train confusion_matrix: [[82 35], [ 5 46]], train precision: 0.5679, train recall: 0.9020\n",
            "test  loss: 0.185813, test  accuracy: 0.6667, test  f1 score: 0.5882, test  confusion_matrix: [[18 11], [ 3 10]], test  precision: 0.4762, test  recall: 0.7692\n"
          ]
        },
        {
          "output_type": "stream",
          "name": "stderr",
          "text": [
            "Epoch: 0021, loss_train: 0.4417:  11%|█         | 22/200 [00:03<00:29,  6.11it/s]"
          ]
        },
        {
          "output_type": "stream",
          "name": "stdout",
          "text": [
            "\n",
            "Mini Test for Epochs 20:\n",
            "train loss: 0.124114, train accuracy: 0.7738, train f1 score: 0.7077, train confusion_matrix: [[84 33], [ 5 46]], train precision: 0.5823, train recall: 0.9020\n",
            "test  loss: 0.189228, test  accuracy: 0.6667, test  f1 score: 0.5882, test  confusion_matrix: [[18 11], [ 3 10]], test  precision: 0.4762, test  recall: 0.7692\n"
          ]
        },
        {
          "output_type": "stream",
          "name": "stderr",
          "text": [
            "Epoch: 0031, loss_train: 0.4330:  16%|█▌        | 32/200 [00:05<00:25,  6.47it/s]"
          ]
        },
        {
          "output_type": "stream",
          "name": "stdout",
          "text": [
            "\n",
            "Mini Test for Epochs 30:\n",
            "train loss: 0.115880, train accuracy: 0.7738, train f1 score: 0.7077, train confusion_matrix: [[84 33], [ 5 46]], train precision: 0.5823, train recall: 0.9020\n",
            "test  loss: 0.177590, test  accuracy: 0.6667, test  f1 score: 0.5882, test  confusion_matrix: [[18 11], [ 3 10]], test  precision: 0.4762, test  recall: 0.7692\n"
          ]
        },
        {
          "output_type": "stream",
          "name": "stderr",
          "text": [
            "Epoch: 0041, loss_train: 0.3983:  21%|██        | 42/200 [00:06<00:25,  6.15it/s]"
          ]
        },
        {
          "output_type": "stream",
          "name": "stdout",
          "text": [
            "\n",
            "Mini Test for Epochs 40:\n",
            "train loss: 0.109939, train accuracy: 0.8095, train f1 score: 0.7419, train confusion_matrix: [[90 27], [ 5 46]], train precision: 0.6301, train recall: 0.9020\n",
            "test  loss: 0.158645, test  accuracy: 0.6905, test  f1 score: 0.6061, test  confusion_matrix: [[19 10], [ 3 10]], test  precision: 0.5000, test  recall: 0.7692\n"
          ]
        },
        {
          "output_type": "stream",
          "name": "stderr",
          "text": [
            "Epoch: 0051, loss_train: 0.3628:  26%|██▌       | 52/200 [00:08<00:22,  6.48it/s]"
          ]
        },
        {
          "output_type": "stream",
          "name": "stdout",
          "text": [
            "\n",
            "Mini Test for Epochs 50:\n",
            "train loss: 0.111978, train accuracy: 0.7976, train f1 score: 0.7213, train confusion_matrix: [[90 27], [ 7 44]], train precision: 0.6197, train recall: 0.8627\n",
            "test  loss: 0.155012, test  accuracy: 0.6905, test  f1 score: 0.6061, test  confusion_matrix: [[19 10], [ 3 10]], test  precision: 0.5000, test  recall: 0.7692\n"
          ]
        },
        {
          "output_type": "stream",
          "name": "stderr",
          "text": [
            "Epoch: 0061, loss_train: 0.3213:  31%|███       | 62/200 [00:09<00:20,  6.60it/s]"
          ]
        },
        {
          "output_type": "stream",
          "name": "stdout",
          "text": [
            "\n",
            "Mini Test for Epochs 60:\n",
            "train loss: 0.106751, train accuracy: 0.7976, train f1 score: 0.7213, train confusion_matrix: [[90 27], [ 7 44]], train precision: 0.6197, train recall: 0.8627\n",
            "test  loss: 0.153641, test  accuracy: 0.6905, test  f1 score: 0.6061, test  confusion_matrix: [[19 10], [ 3 10]], test  precision: 0.5000, test  recall: 0.7692\n"
          ]
        },
        {
          "output_type": "stream",
          "name": "stderr",
          "text": [
            "Epoch: 0071, loss_train: 0.2976:  36%|███▌      | 72/200 [00:10<00:19,  6.48it/s]"
          ]
        },
        {
          "output_type": "stream",
          "name": "stdout",
          "text": [
            "\n",
            "Mini Test for Epochs 70:\n",
            "train loss: 0.113480, train accuracy: 0.8036, train f1 score: 0.7317, train confusion_matrix: [[90 27], [ 6 45]], train precision: 0.6250, train recall: 0.8824\n",
            "test  loss: 0.157826, test  accuracy: 0.6905, test  f1 score: 0.6061, test  confusion_matrix: [[19 10], [ 3 10]], test  precision: 0.5000, test  recall: 0.7692\n"
          ]
        },
        {
          "output_type": "stream",
          "name": "stderr",
          "text": [
            "Epoch: 0080, loss_train: 0.3058:  40%|████      | 81/200 [00:12<00:24,  4.89it/s]"
          ]
        },
        {
          "output_type": "stream",
          "name": "stdout",
          "text": [
            "\n",
            "Mini Test for Epochs 80:\n",
            "train loss: 0.102002, train accuracy: 0.8036, train f1 score: 0.7317, train confusion_matrix: [[90 27], [ 6 45]], train precision: 0.6250, train recall: 0.8824\n",
            "test  loss: 0.148121, test  accuracy: 0.6905, test  f1 score: 0.6061, test  confusion_matrix: [[19 10], [ 3 10]], test  precision: 0.5000, test  recall: 0.7692\n"
          ]
        },
        {
          "output_type": "stream",
          "name": "stderr",
          "text": [
            "Epoch: 0090, loss_train: 0.2705:  46%|████▌     | 91/200 [00:14<00:28,  3.89it/s]"
          ]
        },
        {
          "output_type": "stream",
          "name": "stdout",
          "text": [
            "\n",
            "Mini Test for Epochs 90:\n",
            "train loss: 0.098618, train accuracy: 0.8036, train f1 score: 0.7317, train confusion_matrix: [[90 27], [ 6 45]], train precision: 0.6250, train recall: 0.8824\n",
            "test  loss: 0.154510, test  accuracy: 0.6905, test  f1 score: 0.6061, test  confusion_matrix: [[19 10], [ 3 10]], test  precision: 0.5000, test  recall: 0.7692\n"
          ]
        },
        {
          "output_type": "stream",
          "name": "stderr",
          "text": [
            "Epoch: 0101, loss_train: 0.2840:  51%|█████     | 102/200 [00:16<00:16,  5.83it/s]"
          ]
        },
        {
          "output_type": "stream",
          "name": "stdout",
          "text": [
            "\n",
            "Mini Test for Epochs 100:\n",
            "train loss: 0.102116, train accuracy: 0.8036, train f1 score: 0.7317, train confusion_matrix: [[90 27], [ 6 45]], train precision: 0.6250, train recall: 0.8824\n",
            "test  loss: 0.152586, test  accuracy: 0.6905, test  f1 score: 0.6061, test  confusion_matrix: [[19 10], [ 3 10]], test  precision: 0.5000, test  recall: 0.7692\n"
          ]
        },
        {
          "output_type": "stream",
          "name": "stderr",
          "text": [
            "Epoch: 0111, loss_train: 0.2460:  56%|█████▌    | 112/200 [00:17<00:13,  6.66it/s]"
          ]
        },
        {
          "output_type": "stream",
          "name": "stdout",
          "text": [
            "\n",
            "Mini Test for Epochs 110:\n",
            "train loss: 0.109141, train accuracy: 0.8095, train f1 score: 0.7419, train confusion_matrix: [[90 27], [ 5 46]], train precision: 0.6301, train recall: 0.9020\n",
            "test  loss: 0.155775, test  accuracy: 0.6905, test  f1 score: 0.6061, test  confusion_matrix: [[19 10], [ 3 10]], test  precision: 0.5000, test  recall: 0.7692\n"
          ]
        },
        {
          "output_type": "stream",
          "name": "stderr",
          "text": [
            "Epoch: 0121, loss_train: 0.2781:  61%|██████    | 122/200 [00:18<00:11,  6.63it/s]"
          ]
        },
        {
          "output_type": "stream",
          "name": "stdout",
          "text": [
            "\n",
            "Mini Test for Epochs 120:\n",
            "train loss: 0.099926, train accuracy: 0.8095, train f1 score: 0.7419, train confusion_matrix: [[90 27], [ 5 46]], train precision: 0.6301, train recall: 0.9020\n",
            "test  loss: 0.156647, test  accuracy: 0.6905, test  f1 score: 0.6061, test  confusion_matrix: [[19 10], [ 3 10]], test  precision: 0.5000, test  recall: 0.7692\n"
          ]
        },
        {
          "output_type": "stream",
          "name": "stderr",
          "text": [
            "Epoch: 0131, loss_train: 0.2464:  66%|██████▌   | 132/200 [00:20<00:09,  6.82it/s]"
          ]
        },
        {
          "output_type": "stream",
          "name": "stdout",
          "text": [
            "\n",
            "Mini Test for Epochs 130:\n",
            "train loss: 0.103638, train accuracy: 0.8095, train f1 score: 0.7419, train confusion_matrix: [[90 27], [ 5 46]], train precision: 0.6301, train recall: 0.9020\n",
            "test  loss: 0.164927, test  accuracy: 0.6905, test  f1 score: 0.6061, test  confusion_matrix: [[19 10], [ 3 10]], test  precision: 0.5000, test  recall: 0.7692\n"
          ]
        },
        {
          "output_type": "stream",
          "name": "stderr",
          "text": [
            "Epoch: 0141, loss_train: 0.2450:  71%|███████   | 142/200 [00:21<00:08,  6.54it/s]"
          ]
        },
        {
          "output_type": "stream",
          "name": "stdout",
          "text": [
            "\n",
            "Mini Test for Epochs 140:\n",
            "train loss: 0.102087, train accuracy: 0.8095, train f1 score: 0.7419, train confusion_matrix: [[90 27], [ 5 46]], train precision: 0.6301, train recall: 0.9020\n",
            "test  loss: 0.154266, test  accuracy: 0.6905, test  f1 score: 0.6061, test  confusion_matrix: [[19 10], [ 3 10]], test  precision: 0.5000, test  recall: 0.7692\n"
          ]
        },
        {
          "output_type": "stream",
          "name": "stderr",
          "text": [
            "Epoch: 0151, loss_train: 0.2295:  76%|███████▌  | 152/200 [00:22<00:07,  6.58it/s]"
          ]
        },
        {
          "output_type": "stream",
          "name": "stdout",
          "text": [
            "\n",
            "Mini Test for Epochs 150:\n",
            "train loss: 0.104063, train accuracy: 0.8095, train f1 score: 0.7419, train confusion_matrix: [[90 27], [ 5 46]], train precision: 0.6301, train recall: 0.9020\n",
            "test  loss: 0.156944, test  accuracy: 0.6905, test  f1 score: 0.6061, test  confusion_matrix: [[19 10], [ 3 10]], test  precision: 0.5000, test  recall: 0.7692\n"
          ]
        },
        {
          "output_type": "stream",
          "name": "stderr",
          "text": [
            "Epoch: 0161, loss_train: 0.2306:  81%|████████  | 162/200 [00:24<00:05,  6.71it/s]"
          ]
        },
        {
          "output_type": "stream",
          "name": "stdout",
          "text": [
            "\n",
            "Mini Test for Epochs 160:\n",
            "train loss: 0.101868, train accuracy: 0.8095, train f1 score: 0.7419, train confusion_matrix: [[90 27], [ 5 46]], train precision: 0.6301, train recall: 0.9020\n",
            "test  loss: 0.157410, test  accuracy: 0.6905, test  f1 score: 0.6061, test  confusion_matrix: [[19 10], [ 3 10]], test  precision: 0.5000, test  recall: 0.7692\n"
          ]
        },
        {
          "output_type": "stream",
          "name": "stderr",
          "text": [
            "Epoch: 0171, loss_train: 0.2282:  86%|████████▌ | 172/200 [00:25<00:04,  6.13it/s]"
          ]
        },
        {
          "output_type": "stream",
          "name": "stdout",
          "text": [
            "\n",
            "Mini Test for Epochs 170:\n",
            "train loss: 0.094709, train accuracy: 0.8333, train f1 score: 0.7667, train confusion_matrix: [[94 23], [ 5 46]], train precision: 0.6667, train recall: 0.9020\n",
            "test  loss: 0.152403, test  accuracy: 0.7619, test  f1 score: 0.6667, test  confusion_matrix: [[22  7], [ 3 10]], test  precision: 0.5882, test  recall: 0.7692\n"
          ]
        },
        {
          "output_type": "stream",
          "name": "stderr",
          "text": [
            "Epoch: 0180, loss_train: 0.2329:  90%|█████████ | 181/200 [00:27<00:04,  3.94it/s]"
          ]
        },
        {
          "output_type": "stream",
          "name": "stdout",
          "text": [
            "\n",
            "Mini Test for Epochs 180:\n",
            "train loss: 0.111336, train accuracy: 0.8095, train f1 score: 0.7419, train confusion_matrix: [[90 27], [ 5 46]], train precision: 0.6301, train recall: 0.9020\n",
            "test  loss: 0.159456, test  accuracy: 0.6905, test  f1 score: 0.6061, test  confusion_matrix: [[19 10], [ 3 10]], test  precision: 0.5000, test  recall: 0.7692\n"
          ]
        },
        {
          "output_type": "stream",
          "name": "stderr",
          "text": [
            "Epoch: 0191, loss_train: 0.2238:  96%|█████████▌| 192/200 [00:29<00:01,  4.69it/s]"
          ]
        },
        {
          "output_type": "stream",
          "name": "stdout",
          "text": [
            "\n",
            "Mini Test for Epochs 190:\n",
            "train loss: 0.108047, train accuracy: 0.8095, train f1 score: 0.7419, train confusion_matrix: [[90 27], [ 5 46]], train precision: 0.6301, train recall: 0.9020\n",
            "test  loss: 0.163606, test  accuracy: 0.6905, test  f1 score: 0.6061, test  confusion_matrix: [[19 10], [ 3 10]], test  precision: 0.5000, test  recall: 0.7692\n"
          ]
        },
        {
          "output_type": "stream",
          "name": "stderr",
          "text": [
            "Epoch: 0199, loss_train: 0.2230: 100%|██████████| 200/200 [00:30<00:00,  6.49it/s]\n"
          ]
        }
      ]
    },
    {
      "cell_type": "code",
      "source": [],
      "metadata": {
        "id": "lzBZRNRdVSOk"
      },
      "execution_count": null,
      "outputs": []
    }
  ]
}